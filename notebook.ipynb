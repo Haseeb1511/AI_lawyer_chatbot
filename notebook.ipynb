{
 "cells": [
  {
   "cell_type": "code",
   "execution_count": 48,
   "id": "75767a48",
   "metadata": {},
   "outputs": [
    {
     "data": {
      "text/plain": [
       "True"
      ]
     },
     "execution_count": 48,
     "metadata": {},
     "output_type": "execute_result"
    }
   ],
   "source": [
    "from langchain_core.prompts import PromptTemplate\n",
    "from langchain_groq import ChatGroq\n",
    "from langchain.vectorstores import FAISS\n",
    "from langchain_huggingface import HuggingFaceEmbeddings\n",
    "from dotenv import load_dotenv\n",
    "from langchain_community.document_loaders import DirectoryLoader,PyMuPDFLoader\n",
    "from langchain.text_splitter import RecursiveCharacterTextSplitter\n",
    "load_dotenv()"
   ]
  },
  {
   "cell_type": "markdown",
   "id": "84bf9242",
   "metadata": {},
   "source": [
    "## Document Loading"
   ]
  },
  {
   "cell_type": "code",
   "execution_count": 49,
   "id": "dd3b63df",
   "metadata": {},
   "outputs": [
    {
     "name": "stdout",
     "output_type": "stream",
     "text": [
      "len of islamic document is : 571\n",
      "len of cases document is : 379\n",
      "len of legal document is : 822\n"
     ]
    }
   ],
   "source": [
    "def doc_loader(path):\n",
    "    loader = DirectoryLoader(path=path, glob=\"*.pdf\",loader_cls=PyMuPDFLoader)\n",
    "    load = loader.load()\n",
    "    return load\n",
    "\n",
    "path_to_cases = \"pdf_files/cases\"\n",
    "path_to_legal = \"pdf_files/Constitution and law\"\n",
    "path_to_islamic = \"pdf_files/Islamic law\"\n",
    "\n",
    "cases_document = doc_loader(path_to_cases)\n",
    "legal_document = doc_loader(path_to_legal)\n",
    "islamic_law_document = doc_loader(path_to_islamic)\n",
    "\n",
    "print(\"len of islamic document is :\",len(islamic_law_document))\n",
    "print(\"len of cases document is :\",len(cases_document))\n",
    "print(\"len of legal document is :\",len(legal_document))"
   ]
  },
  {
   "cell_type": "markdown",
   "id": "02147b8f",
   "metadata": {},
   "source": [
    "## Text Chunking"
   ]
  },
  {
   "cell_type": "code",
   "execution_count": 50,
   "id": "d00e8946",
   "metadata": {},
   "outputs": [
    {
     "name": "stdout",
     "output_type": "stream",
     "text": [
      "Total Chunks legal: 2369\n",
      "Total Chunks cases: 1038\n",
      "Total Chunks islamic: 3408\n"
     ]
    }
   ],
   "source": [
    "# Step 2: Text splitting\n",
    "def text_splitter(data):\n",
    "    text_splitter = RecursiveCharacterTextSplitter(\n",
    "        chunk_size=1000,\n",
    "        chunk_overlap=250\n",
    "    )\n",
    "    return text_splitter.split_documents(data)\n",
    "\n",
    "legal_chunks = text_splitter(legal_document)\n",
    "islmaic_chunks = text_splitter(islamic_law_document)\n",
    "cases_chunks = text_splitter(cases_document)\n",
    "\n",
    "print(\"Total Chunks legal:\",len(legal_chunks))\n",
    "print(\"Total Chunks cases:\",len(cases_chunks))\n",
    "print(\"Total Chunks islamic:\",len(islmaic_chunks))"
   ]
  },
  {
   "cell_type": "markdown",
   "id": "de1501b5",
   "metadata": {},
   "source": [
    "## Create Vector Store"
   ]
  },
  {
   "cell_type": "code",
   "execution_count": 53,
   "id": "632b976f",
   "metadata": {},
   "outputs": [
    {
     "name": "stderr",
     "output_type": "stream",
     "text": [
      "100%|██████████| 69/69 [04:34<00:00,  3.98s/it]\n",
      "100%|██████████| 48/48 [03:16<00:00,  4.10s/it]\n",
      "100%|██████████| 21/21 [01:06<00:00,  3.15s/it]"
     ]
    },
    {
     "name": "stdout",
     "output_type": "stream",
     "text": [
      "Vector stroe created successfully\n"
     ]
    },
    {
     "name": "stderr",
     "output_type": "stream",
     "text": [
      "\n"
     ]
    }
   ],
   "source": [
    "import os\n",
    "from tqdm import tqdm\n",
    "\n",
    "embedding_model = HuggingFaceEmbeddings(model_name=\"sentence-transformers/all-MiniLM-L6-v2\")\n",
    "\n",
    "batch_size = 50\n",
    "\n",
    "def create_vector_store(chunks,vector_store_save_path,batch_size):\n",
    "    vector_store = None\n",
    "    for i in tqdm(range(0,len(chunks),batch_size)):\n",
    "        batch = chunks[i:i+batch_size]\n",
    "        if vector_store is None:\n",
    "            vector_store = FAISS.from_documents(documents=batch,embedding=embedding_model)\n",
    "        else:\n",
    "            new_store = FAISS.from_documents(documents=batch,embedding=embedding_model)\n",
    "            vector_store.merge_from(new_store)\n",
    "\n",
    "    vector_store.save_local(vector_store_save_path)\n",
    "    return vector_store\n",
    "\n",
    "os.makedirs(\"vector_store/Islamic\",exist_ok=True)\n",
    "os.makedirs(\"vector_store/Cases\",exist_ok=True)\n",
    "os.makedirs(\"vector_store/Legal\",exist_ok=True)\n",
    "\n",
    "path_to_islamic_db = \"vector_store/Islamic/\"\n",
    "path_to_cases_db = \"vector_store/Cases/\"\n",
    "path_to_legal_db = \"vector_store/Legal/\"\n",
    "\n",
    "\n",
    "islamic_vector_store = create_vector_store(islmaic_chunks,path_to_islamic_db,batch_size)\n",
    "legal_vector_store = create_vector_store(legal_chunks,path_to_legal_db,batch_size)\n",
    "cases_vector_store = create_vector_store(cases_chunks,path_to_cases_db,batch_size)\n",
    "\n",
    "print(\"Vector stroe created successfully\")"
   ]
  },
  {
   "cell_type": "markdown",
   "id": "a2625674",
   "metadata": {},
   "source": [
    "## Load Vector Store"
   ]
  },
  {
   "cell_type": "code",
   "execution_count": 54,
   "id": "fb10172c",
   "metadata": {},
   "outputs": [],
   "source": [
    "def load_vector_store(path,embedding_model):\n",
    "    return FAISS.load_local(folder_path=path,embeddings=embedding_model,allow_dangerous_deserialization=True)\n",
    "\n",
    "cases_vector_store= load_vector_store(path_to_cases_db,embedding_model)\n",
    "legal_vector_store= load_vector_store(path_to_legal_db,embedding_model)\n",
    "islamic_vector_store= load_vector_store(path_to_islamic_db,embedding_model)"
   ]
  },
  {
   "cell_type": "markdown",
   "id": "5a529e25",
   "metadata": {},
   "source": [
    "## Vector Store As Retriever"
   ]
  },
  {
   "cell_type": "code",
   "execution_count": null,
   "id": "4366f1a2",
   "metadata": {},
   "outputs": [],
   "source": [
    "cases_retriever = cases_vector_store.as_retriever(search_type=\"similarity\", search_kwargs={\"k\": 3})\n",
    "legal_retriever = legal_vector_store.as_retriever(search_type=\"similarity\", search_kwargs={\"k\": 3})\n",
    "islamic_retriever = islamic_vector_store.as_retriever(search_type=\"similarity\", search_kwargs={\"k\": 3})"
   ]
  },
  {
   "cell_type": "code",
   "execution_count": 56,
   "id": "847ea8b6",
   "metadata": {},
   "outputs": [
    {
     "data": {
      "text/plain": [
       "[Document(id='b6045c4b-63ab-4b95-82f0-240b355772d3', metadata={'producer': 'Microsoft® Word 2010', 'creator': 'Microsoft® Word 2010', 'creationdate': '2012-04-04T12:15:58+05:00', 'source': 'pdf_files\\\\Constitution and law\\\\constitution.pdf', 'file_path': 'pdf_files\\\\Constitution and law\\\\constitution.pdf', 'total_pages': 222, 'format': 'PDF 1.7', 'title': '', 'author': 'Naveed Anjum', 'subject': '', 'keywords': '', 'moddate': '2012-04-04T12:19:29+05:00', 'trapped': '', 'encryption': 'Standard V4 R4 128-bit AES', 'modDate': \"D:20120404121929+05'00'\", 'creationDate': \"D:20120404121558+05'00'\", 'page': 0}, page_content='THE \\nCONSTITUTION \\nOF THE \\nISLAMIC REPUBLIC \\nOF \\nPAKISTAN \\n \\n \\n \\n \\n \\n \\n[As modified upto the 28th February, 2012] \\n \\n \\n \\n \\n \\n \\nNATIONAL ASSEMBLY OF PAKISTAN'),\n",
       " Document(id='fb7cfb73-088d-4318-989b-4125ee45eee9', metadata={'producer': 'Microsoft® Word 2010', 'creator': 'Microsoft® Word 2010', 'creationdate': '2012-04-04T12:15:58+05:00', 'source': 'pdf_files\\\\Constitution and law\\\\constitution.pdf', 'file_path': 'pdf_files\\\\Constitution and law\\\\constitution.pdf', 'total_pages': 222, 'format': 'PDF 1.7', 'title': '', 'author': 'Naveed Anjum', 'subject': '', 'keywords': '', 'moddate': '2012-04-04T12:19:29+05:00', 'trapped': '', 'encryption': 'Standard V4 R4 128-bit AES', 'modDate': \"D:20120404121929+05'00'\", 'creationDate': \"D:20120404121558+05'00'\", 'page': 11}, page_content='CONSTITUTION OF PAKISTAN  \\n \\n1\\n \\n \\n(In the name of Allah, the most Beneficent, \\nthe most Merciful.) \\n \\nTHE CONSTITUTION OF THE ISLAMIC \\nREPUBLIC OF PAKISTAN \\n \\n[12TH APRIL, 1973]  \\nPreamble \\n \\nWhereas sovereignty over the entire Universe belongs to Almighty \\nAllah alone, and the authority to be exercised by the people of Pakistan \\nwithin the limits prescribed by Him is a sacred trust; \\n \\nAnd whereas it is the will of the people of Pakistan to establish an \\norder; \\n \\nWherein the State shall exercise its powers and authority through \\nthe chosen representatives of the people; \\n \\nWherein the principles of democracy, freedom, equality, tolerance \\nand social justice, as enunciated by Islam, shall be fully observed; \\n \\nWherein the Muslims shall be enabled to order their lives in the \\nindividual and collective spheres in accordance with the teachings and \\nrequirements of Islam as set out in the Holy Quran and Sunnah; \\n \\nWherein adequate provision shall be made for the minorities freely'),\n",
       " Document(id='7c893b5e-bad0-4d84-8365-df1b46a846a3', metadata={'producer': 'Microsoft® Word 2010', 'creator': 'Microsoft® Word 2010', 'creationdate': '2012-04-04T12:15:58+05:00', 'source': 'pdf_files\\\\Constitution and law\\\\constitution.pdf', 'file_path': 'pdf_files\\\\Constitution and law\\\\constitution.pdf', 'total_pages': 222, 'format': 'PDF 1.7', 'title': '', 'author': 'Naveed Anjum', 'subject': '', 'keywords': '', 'moddate': '2012-04-04T12:19:29+05:00', 'trapped': '', 'encryption': 'Standard V4 R4 128-bit AES', 'modDate': \"D:20120404121929+05'00'\", 'creationDate': \"D:20120404121558+05'00'\", 'page': 185}, page_content='CONSTITUTION OF PAKISTAN  \\n \\n175\\nWherein adequate provision shall be made to safeguard the \\nlegitimate interests of minorities and backward and depressed classes; \\n \\nWherein the independence of the Judiciary shall be fully secured; \\n \\nWherein the integrity of the territories of the Federation, its \\nindependence and all its rights including its sovereign rights on land, sea \\nand air shall be safeguarded; \\n \\nSo that the people of Pakistan may prosper and attain their rightful \\nand honoured place amongst the nations of the World and make their full \\ncontribution towards international peace and progress and happiness of \\nhumanity.] \\n__________')]"
      ]
     },
     "execution_count": 56,
     "metadata": {},
     "output_type": "execute_result"
    }
   ],
   "source": [
    "legal_retriever.invoke(\"Constitution of pakistan\")"
   ]
  },
  {
   "cell_type": "markdown",
   "id": "e18ca0b2",
   "metadata": {},
   "source": [
    "## HuggingFace Reranker "
   ]
  },
  {
   "cell_type": "code",
   "execution_count": 18,
   "id": "483191de",
   "metadata": {},
   "outputs": [],
   "source": [
    "from langchain.retrievers.document_compressors import CrossEncoderReranker\n",
    "from langchain.retrievers import ContextualCompressionRetriever\n",
    "from langchain.retrievers.document_compressors import DocumentCompressorPipeline\n",
    "from langchain_community.cross_encoders import HuggingFaceCrossEncoder\n",
    "\n",
    "\n",
    "hugging_face_reranker = HuggingFaceCrossEncoder(model_name = \"cross-encoder/ms-marco-MiniLM-L6-v2\")\n",
    "reranker = CrossEncoderReranker(model=hugging_face_reranker)\n",
    "pipeline = DocumentCompressorPipeline(transformers=[reranker])\n",
    "\n",
    "#pip install hf_xet"
   ]
  },
  {
   "cell_type": "markdown",
   "id": "f0d8e30f",
   "metadata": {},
   "source": [
    "### Group Reranker + Retriever"
   ]
  },
  {
   "cell_type": "code",
   "execution_count": 39,
   "id": "9ae70b86",
   "metadata": {},
   "outputs": [],
   "source": [
    "contextual_compression_retriever = ContextualCompressionRetriever(\n",
    "    base_compressor=pipeline,\n",
    "    base_retriever=legal_retriever\n",
    ")"
   ]
  },
  {
   "cell_type": "markdown",
   "id": "b007582e",
   "metadata": {},
   "source": [
    "## Prompt + Parser"
   ]
  },
  {
   "cell_type": "code",
   "execution_count": 45,
   "id": "f22248fe",
   "metadata": {},
   "outputs": [],
   "source": [
    "from langchain_core.output_parsers import StrOutputParser\n",
    "\n",
    "template = PromptTemplate(\n",
    "    template=\"\"\" \n",
    "        You are a Legal Assistant specialized in Pakistani law. \n",
    "        Your task is to provide precise and legally accurate answers based on the provided context.\n",
    "        Instructions:\n",
    "        - Refer ONLY to the provided context to answer the user's legal question.\n",
    "        - If the context lacks information to answer, respond with:\n",
    "        \"I don't know based on the given context.\"\n",
    "        - Maintain a formal and professional tone at all times.\n",
    "        - Provide relevant citations from the documents, using brackets like [1], [2], etc.\n",
    "        \n",
    "        CONTEXT:\n",
    "        {context}\n",
    "        QUESTION:\n",
    "        {question}\n",
    "        ANSWER:\n",
    "        \"\"\",\n",
    "    input_variables=[\"context\", \"question\"],\n",
    "    validate_template=True\n",
    ")\n",
    "parser = StrOutputParser()"
   ]
  },
  {
   "cell_type": "markdown",
   "id": "9b2e7b9e",
   "metadata": {},
   "source": [
    "## Model"
   ]
  },
  {
   "cell_type": "code",
   "execution_count": 46,
   "id": "4b5078e8",
   "metadata": {},
   "outputs": [],
   "source": [
    "llm = ChatGroq(model=\"llama3-70b-8192\",max_tokens=512)"
   ]
  },
  {
   "cell_type": "markdown",
   "id": "7bbf4b9c",
   "metadata": {},
   "source": [
    "## Clean The retriever Output before passing to the model"
   ]
  },
  {
   "cell_type": "code",
   "execution_count": null,
   "id": "d08e80a4",
   "metadata": {},
   "outputs": [],
   "source": [
    "def cleaner(docs):\n",
    "    return \"\\n\\n\".join(doc.page_content for doc in docs)"
   ]
  },
  {
   "cell_type": "markdown",
   "id": "aaf5fb01",
   "metadata": {},
   "source": [
    "## Final Chain "
   ]
  },
  {
   "cell_type": "code",
   "execution_count": 43,
   "id": "5f71cd82",
   "metadata": {},
   "outputs": [],
   "source": [
    "from langchain_core.runnables import RunnableParallel,RunnablePassthrough,RunnableLambda\n",
    "\n",
    "parallel_chain = RunnableParallel({\n",
    "    \"context\": contextual_compression_retriever | RunnableLambda(cleaner),\n",
    "    \"question\": RunnablePassthrough()\n",
    "})\n",
    "\n",
    "final_chain = parallel_chain | template | llm | parser\n",
    "\n",
    "result = final_chain.invoke(\"Constitution of pakistan\")"
   ]
  },
  {
   "cell_type": "code",
   "execution_count": 47,
   "id": "a2daac86",
   "metadata": {},
   "outputs": [
    {
     "data": {
      "text/markdown": [
       "The Constitution of Pakistan is the supreme law of the land. It was adopted on March 23, 1956, and it has undergone several amendments since then. The Constitution sets out the framework of the government, the relationship between the federal government and the provinces, and the fundamental rights of the people. \n",
       "\n",
       "The Constitution is divided into twelve parts, with 280 articles. It also includes several schedules. Article 1 of the Constitution declares that Pakistan shall be a Federal Republic, comprising four provinces: Balochistan, Khyber Pakhtunkhwa, Punjab, and Sindh [1]. \n",
       "\n",
       "The Constitution also establishes the supremacy of the Constitution, and declares that any law inconsistent with the Constitution shall be void [2]. \n",
       "\n",
       "[1] Article 1 of the Constitution of Pakistan \n",
       "[2] Article 8 of the Constitution of Pakistan"
      ],
      "text/plain": [
       "<IPython.core.display.Markdown object>"
      ]
     },
     "metadata": {},
     "output_type": "display_data"
    }
   ],
   "source": [
    "from IPython.display import Markdown,display\n",
    "display(Markdown(result))"
   ]
  },
  {
   "cell_type": "code",
   "execution_count": null,
   "id": "4241a7dd",
   "metadata": {},
   "outputs": [],
   "source": []
  }
 ],
 "metadata": {
  "kernelspec": {
   "display_name": "legal",
   "language": "python",
   "name": "python3"
  },
  "language_info": {
   "codemirror_mode": {
    "name": "ipython",
    "version": 3
   },
   "file_extension": ".py",
   "mimetype": "text/x-python",
   "name": "python",
   "nbconvert_exporter": "python",
   "pygments_lexer": "ipython3",
   "version": "3.12.7"
  }
 },
 "nbformat": 4,
 "nbformat_minor": 5
}
